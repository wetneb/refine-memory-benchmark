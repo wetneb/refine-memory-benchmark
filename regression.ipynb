{
 "cells": [
  {
   "cell_type": "code",
   "execution_count": 1,
   "id": "informed-village",
   "metadata": {},
   "outputs": [],
   "source": [
    "import pandas as pd\n",
    "import numpy as np"
   ]
  },
  {
   "cell_type": "code",
   "execution_count": 2,
   "id": "short-reform",
   "metadata": {},
   "outputs": [],
   "source": [
    "df = pd.read_csv(\"stats.tsv\", sep=\"\\t\")"
   ]
  },
  {
   "cell_type": "code",
   "execution_count": 11,
   "id": "palestinian-burden",
   "metadata": {},
   "outputs": [
    {
     "data": {
      "text/html": [
       "<div>\n",
       "<style scoped>\n",
       "    .dataframe tbody tr th:only-of-type {\n",
       "        vertical-align: middle;\n",
       "    }\n",
       "\n",
       "    .dataframe tbody tr th {\n",
       "        vertical-align: top;\n",
       "    }\n",
       "\n",
       "    .dataframe thead th {\n",
       "        text-align: right;\n",
       "    }\n",
       "</style>\n",
       "<table border=\"1\" class=\"dataframe\">\n",
       "  <thead>\n",
       "    <tr style=\"text-align: right;\">\n",
       "      <th></th>\n",
       "      <th>name</th>\n",
       "      <th>size</th>\n",
       "      <th>rows</th>\n",
       "      <th>columns</th>\n",
       "      <th>reconColumns</th>\n",
       "      <th>reconCells</th>\n",
       "      <th>normalColumns</th>\n",
       "      <th>normalCells</th>\n",
       "      <th>totalCells</th>\n",
       "    </tr>\n",
       "  </thead>\n",
       "  <tbody>\n",
       "    <tr>\n",
       "      <th>0</th>\n",
       "      <td>ror and grid ids</td>\n",
       "      <td>149504832</td>\n",
       "      <td>104870</td>\n",
       "      <td>4</td>\n",
       "      <td>1</td>\n",
       "      <td>104870</td>\n",
       "      <td>3</td>\n",
       "      <td>314610</td>\n",
       "      <td>419480</td>\n",
       "    </tr>\n",
       "    <tr>\n",
       "      <th>1</th>\n",
       "      <td>abb910 csv</td>\n",
       "      <td>4096</td>\n",
       "      <td>64</td>\n",
       "      <td>4</td>\n",
       "      <td>0</td>\n",
       "      <td>0</td>\n",
       "      <td>4</td>\n",
       "      <td>256</td>\n",
       "      <td>256</td>\n",
       "    </tr>\n",
       "    <tr>\n",
       "      <th>2</th>\n",
       "      <td>ificom 2022 xlsx</td>\n",
       "      <td>122096</td>\n",
       "      <td>210</td>\n",
       "      <td>7</td>\n",
       "      <td>0</td>\n",
       "      <td>0</td>\n",
       "      <td>7</td>\n",
       "      <td>1470</td>\n",
       "      <td>1470</td>\n",
       "    </tr>\n",
       "    <tr>\n",
       "      <th>3</th>\n",
       "      <td>inventaire immobilier de letat csv</td>\n",
       "      <td>482260640</td>\n",
       "      <td>207104</td>\n",
       "      <td>13</td>\n",
       "      <td>1</td>\n",
       "      <td>207104</td>\n",
       "      <td>12</td>\n",
       "      <td>2485248</td>\n",
       "      <td>2692352</td>\n",
       "    </tr>\n",
       "    <tr>\n",
       "      <th>4</th>\n",
       "      <td>fr en ips lycees csv</td>\n",
       "      <td>26425568</td>\n",
       "      <td>21777</td>\n",
       "      <td>15</td>\n",
       "      <td>0</td>\n",
       "      <td>0</td>\n",
       "      <td>15</td>\n",
       "      <td>326655</td>\n",
       "      <td>326655</td>\n",
       "    </tr>\n",
       "    <tr>\n",
       "      <th>5</th>\n",
       "      <td>leistungszahlen csv</td>\n",
       "      <td>7064</td>\n",
       "      <td>16</td>\n",
       "      <td>4</td>\n",
       "      <td>0</td>\n",
       "      <td>0</td>\n",
       "      <td>4</td>\n",
       "      <td>64</td>\n",
       "      <td>64</td>\n",
       "    </tr>\n",
       "    <tr>\n",
       "      <th>6</th>\n",
       "      <td>EU transparency register to WD</td>\n",
       "      <td>62602648</td>\n",
       "      <td>13060</td>\n",
       "      <td>54</td>\n",
       "      <td>3</td>\n",
       "      <td>39180</td>\n",
       "      <td>51</td>\n",
       "      <td>666060</td>\n",
       "      <td>705240</td>\n",
       "    </tr>\n",
       "  </tbody>\n",
       "</table>\n",
       "</div>"
      ],
      "text/plain": [
       "                                 name       size    rows  columns  \\\n",
       "0                    ror and grid ids  149504832  104870        4   \n",
       "1                          abb910 csv       4096      64        4   \n",
       "2                    ificom 2022 xlsx     122096     210        7   \n",
       "3  inventaire immobilier de letat csv  482260640  207104       13   \n",
       "4                fr en ips lycees csv   26425568   21777       15   \n",
       "5                 leistungszahlen csv       7064      16        4   \n",
       "6      EU transparency register to WD   62602648   13060       54   \n",
       "\n",
       "   reconColumns  reconCells  normalColumns  normalCells  totalCells  \n",
       "0             1      104870              3       314610      419480  \n",
       "1             0           0              4          256         256  \n",
       "2             0           0              7         1470        1470  \n",
       "3             1      207104             12      2485248     2692352  \n",
       "4             0           0             15       326655      326655  \n",
       "5             0           0              4           64          64  \n",
       "6             3       39180             51       666060      705240  "
      ]
     },
     "execution_count": 11,
     "metadata": {},
     "output_type": "execute_result"
    }
   ],
   "source": [
    "df['normalColumns'] = df['columns'] - df['reconColumns']\n",
    "df['normalCells'] = df['normalColumns'] * df['rows']\n",
    "df['reconCells'] = df['reconColumns'] * df['rows']\n",
    "df['totalCells'] = df['rows'] * df['columns']\n",
    "features = df[['normalCells','reconCells', 'rows']]\n",
    "sizes = df['size']\n",
    "df"
   ]
  },
  {
   "cell_type": "code",
   "execution_count": 12,
   "id": "anticipated-billion",
   "metadata": {},
   "outputs": [
    {
     "data": {
      "text/plain": [
       "[array([ 85.04551887, 343.72395346, 979.67931139]), -8930619.417804658]"
      ]
     },
     "execution_count": 12,
     "metadata": {},
     "output_type": "execute_result"
    }
   ],
   "source": [
    "from sklearn.linear_model import LinearRegression\n",
    "reg = LinearRegression(positive=True).fit(features, sizes)\n",
    "[reg.coef_, reg.intercept_]"
   ]
  },
  {
   "cell_type": "code",
   "execution_count": 13,
   "id": "441c820e",
   "metadata": {},
   "outputs": [
    {
     "data": {
      "text/plain": [
       "0.9965669485752929"
      ]
     },
     "execution_count": 13,
     "metadata": {},
     "output_type": "execute_result"
    }
   ],
   "source": [
    "reg.score(features, sizes)"
   ]
  },
  {
   "cell_type": "code",
   "execution_count": 14,
   "id": "79d7e26e",
   "metadata": {},
   "outputs": [
    {
     "data": {
      "text/plain": [
       "<Axes: xlabel='totalCells', ylabel='size'>"
      ]
     },
     "execution_count": 14,
     "metadata": {},
     "output_type": "execute_result"
    },
    {
     "data": {
      "image/png": "[encoded data removed]",
      "text/plain": [
       "<Figure size 640x480 with 1 Axes>"
      ]
     },
     "metadata": {},
     "output_type": "display_data"
    }
   ],
   "source": [
    "growth = df[['totalCells','size']] #.set_index('rows')\n",
    "from matplotlib import pyplot as plt\n",
    "growth.plot.scatter(x='totalCells',y='size')"
   ]
  },
  {
   "cell_type": "code",
   "execution_count": null,
   "id": "9ca46f82",
   "metadata": {},
   "outputs": [],
   "source": []
  },
  {
   "cell_type": "code",
   "execution_count": null,
   "id": "2afe96c0",
   "metadata": {},
   "outputs": [],
   "source": []
  }
 ],
 "metadata": {
  "kernelspec": {
   "display_name": "Python 3 (ipykernel)",
   "language": "python",
   "name": "python3"
  },
  "language_info": {
   "codemirror_mode": {
    "name": "ipython",
    "version": 3
   },
   "file_extension": ".py",
   "mimetype": "text/x-python",
   "name": "python",
   "nbconvert_exporter": "python",
   "pygments_lexer": "ipython3",
   "version": "3.11.2"
  }
 },
 "nbformat": 4,
 "nbformat_minor": 5
}
