{
 "cells": [
  {
   "cell_type": "code",
   "execution_count": 1,
   "id": "informed-village",
   "metadata": {},
   "outputs": [],
   "source": [
    "import pandas as pd\n",
    "import numpy as np"
   ]
  },
  {
   "cell_type": "code",
   "execution_count": 2,
   "id": "short-reform",
   "metadata": {},
   "outputs": [],
   "source": [
    "df = pd.read_csv(\"stats.tsv\", sep=\"\\t\")"
   ]
  },
  {
   "cell_type": "code",
   "execution_count": 3,
   "id": "palestinian-burden",
   "metadata": {},
   "outputs": [
    {
     "data": {
      "text/html": [
       "<div>\n",
       "<style scoped>\n",
       "    .dataframe tbody tr th:only-of-type {\n",
       "        vertical-align: middle;\n",
       "    }\n",
       "\n",
       "    .dataframe tbody tr th {\n",
       "        vertical-align: top;\n",
       "    }\n",
       "\n",
       "    .dataframe thead th {\n",
       "        text-align: right;\n",
       "    }\n",
       "</style>\n",
       "<table border=\"1\" class=\"dataframe\">\n",
       "  <thead>\n",
       "    <tr style=\"text-align: right;\">\n",
       "      <th></th>\n",
       "      <th>name</th>\n",
       "      <th>size</th>\n",
       "      <th>rows</th>\n",
       "      <th>columns</th>\n",
       "      <th>reconColumns</th>\n",
       "      <th>normalColumns</th>\n",
       "      <th>normalCells</th>\n",
       "      <th>reconCells</th>\n",
       "      <th>totalCells</th>\n",
       "    </tr>\n",
       "  </thead>\n",
       "  <tbody>\n",
       "    <tr>\n",
       "      <th>0</th>\n",
       "      <td>MRR editorial board</td>\n",
       "      <td>1344</td>\n",
       "      <td>4</td>\n",
       "      <td>4</td>\n",
       "      <td>0</td>\n",
       "      <td>4</td>\n",
       "      <td>16</td>\n",
       "      <td>0</td>\n",
       "      <td>16</td>\n",
       "    </tr>\n",
       "    <tr>\n",
       "      <th>1</th>\n",
       "      <td>MRR editorial board</td>\n",
       "      <td>2472</td>\n",
       "      <td>8</td>\n",
       "      <td>4</td>\n",
       "      <td>0</td>\n",
       "      <td>4</td>\n",
       "      <td>32</td>\n",
       "      <td>0</td>\n",
       "      <td>32</td>\n",
       "    </tr>\n",
       "    <tr>\n",
       "      <th>2</th>\n",
       "      <td>MRR editorial board</td>\n",
       "      <td>3688</td>\n",
       "      <td>12</td>\n",
       "      <td>4</td>\n",
       "      <td>0</td>\n",
       "      <td>4</td>\n",
       "      <td>48</td>\n",
       "      <td>0</td>\n",
       "      <td>48</td>\n",
       "    </tr>\n",
       "    <tr>\n",
       "      <th>3</th>\n",
       "      <td>MRR editorial board</td>\n",
       "      <td>4936</td>\n",
       "      <td>16</td>\n",
       "      <td>4</td>\n",
       "      <td>0</td>\n",
       "      <td>4</td>\n",
       "      <td>64</td>\n",
       "      <td>0</td>\n",
       "      <td>64</td>\n",
       "    </tr>\n",
       "    <tr>\n",
       "      <th>4</th>\n",
       "      <td>MRR editorial board</td>\n",
       "      <td>6168</td>\n",
       "      <td>20</td>\n",
       "      <td>4</td>\n",
       "      <td>0</td>\n",
       "      <td>4</td>\n",
       "      <td>80</td>\n",
       "      <td>0</td>\n",
       "      <td>80</td>\n",
       "    </tr>\n",
       "    <tr>\n",
       "      <th>...</th>\n",
       "      <td>...</td>\n",
       "      <td>...</td>\n",
       "      <td>...</td>\n",
       "      <td>...</td>\n",
       "      <td>...</td>\n",
       "      <td>...</td>\n",
       "      <td>...</td>\n",
       "      <td>...</td>\n",
       "      <td>...</td>\n",
       "    </tr>\n",
       "    <tr>\n",
       "      <th>115</th>\n",
       "      <td>institutionen gerit xlsx</td>\n",
       "      <td>3220688</td>\n",
       "      <td>1206</td>\n",
       "      <td>25</td>\n",
       "      <td>2</td>\n",
       "      <td>23</td>\n",
       "      <td>27738</td>\n",
       "      <td>2412</td>\n",
       "      <td>30150</td>\n",
       "    </tr>\n",
       "    <tr>\n",
       "      <th>116</th>\n",
       "      <td>institutionen gerit xlsx</td>\n",
       "      <td>3770480</td>\n",
       "      <td>1407</td>\n",
       "      <td>25</td>\n",
       "      <td>2</td>\n",
       "      <td>23</td>\n",
       "      <td>32361</td>\n",
       "      <td>2814</td>\n",
       "      <td>35175</td>\n",
       "    </tr>\n",
       "    <tr>\n",
       "      <th>117</th>\n",
       "      <td>institutionen gerit xlsx</td>\n",
       "      <td>4332296</td>\n",
       "      <td>1608</td>\n",
       "      <td>25</td>\n",
       "      <td>2</td>\n",
       "      <td>23</td>\n",
       "      <td>36984</td>\n",
       "      <td>3216</td>\n",
       "      <td>40200</td>\n",
       "    </tr>\n",
       "    <tr>\n",
       "      <th>118</th>\n",
       "      <td>institutionen gerit xlsx</td>\n",
       "      <td>4865888</td>\n",
       "      <td>1809</td>\n",
       "      <td>25</td>\n",
       "      <td>2</td>\n",
       "      <td>23</td>\n",
       "      <td>41607</td>\n",
       "      <td>3618</td>\n",
       "      <td>45225</td>\n",
       "    </tr>\n",
       "    <tr>\n",
       "      <th>119</th>\n",
       "      <td>institutionen gerit xlsx</td>\n",
       "      <td>5407952</td>\n",
       "      <td>2010</td>\n",
       "      <td>25</td>\n",
       "      <td>2</td>\n",
       "      <td>23</td>\n",
       "      <td>46230</td>\n",
       "      <td>4020</td>\n",
       "      <td>50250</td>\n",
       "    </tr>\n",
       "  </tbody>\n",
       "</table>\n",
       "<p>120 rows × 9 columns</p>\n",
       "</div>"
      ],
      "text/plain": [
       "                         name     size  rows  columns  reconColumns  \\\n",
       "0         MRR editorial board     1344     4        4             0   \n",
       "1         MRR editorial board     2472     8        4             0   \n",
       "2         MRR editorial board     3688    12        4             0   \n",
       "3         MRR editorial board     4936    16        4             0   \n",
       "4         MRR editorial board     6168    20        4             0   \n",
       "..                        ...      ...   ...      ...           ...   \n",
       "115  institutionen gerit xlsx  3220688  1206       25             2   \n",
       "116  institutionen gerit xlsx  3770480  1407       25             2   \n",
       "117  institutionen gerit xlsx  4332296  1608       25             2   \n",
       "118  institutionen gerit xlsx  4865888  1809       25             2   \n",
       "119  institutionen gerit xlsx  5407952  2010       25             2   \n",
       "\n",
       "     normalColumns  normalCells  reconCells  totalCells  \n",
       "0                4           16           0          16  \n",
       "1                4           32           0          32  \n",
       "2                4           48           0          48  \n",
       "3                4           64           0          64  \n",
       "4                4           80           0          80  \n",
       "..             ...          ...         ...         ...  \n",
       "115             23        27738        2412       30150  \n",
       "116             23        32361        2814       35175  \n",
       "117             23        36984        3216       40200  \n",
       "118             23        41607        3618       45225  \n",
       "119             23        46230        4020       50250  \n",
       "\n",
       "[120 rows x 9 columns]"
      ]
     },
     "execution_count": 3,
     "metadata": {},
     "output_type": "execute_result"
    }
   ],
   "source": [
    "df['normalColumns'] = df['columns'] - df['reconColumns']\n",
    "df['normalCells'] = df['normalColumns'] * df['rows']\n",
    "df['reconCells'] = df['reconColumns'] * df['rows']\n",
    "df['totalCells'] = df['rows'] * df['columns']\n",
    "features = df[['normalCells','reconCells']]\n",
    "sizes = df['size']\n",
    "df"
   ]
  },
  {
   "cell_type": "code",
   "execution_count": 4,
   "id": "anticipated-billion",
   "metadata": {},
   "outputs": [
    {
     "data": {
      "text/plain": [
       "[array([ 77.79314911, 146.09356285]), -1244779.383709941]"
      ]
     },
     "execution_count": 4,
     "metadata": {},
     "output_type": "execute_result"
    }
   ],
   "source": [
    "from sklearn.linear_model import LinearRegression\n",
    "reg = LinearRegression(positive=True).fit(features, sizes)\n",
    "[reg.coef_, reg.intercept_]"
   ]
  },
  {
   "cell_type": "code",
   "execution_count": 5,
   "id": "441c820e",
   "metadata": {},
   "outputs": [
    {
     "data": {
      "text/plain": [
       "0.9758613687039843"
      ]
     },
     "execution_count": 5,
     "metadata": {},
     "output_type": "execute_result"
    }
   ],
   "source": [
    "reg.score(features, sizes)"
   ]
  },
  {
   "cell_type": "code",
   "execution_count": 7,
   "id": "79d7e26e",
   "metadata": {},
   "outputs": [
    {
     "data": {
      "text/plain": [
       "<AxesSubplot: xlabel='totalCells', ylabel='size'>"
      ]
     },
     "execution_count": 7,
     "metadata": {},
     "output_type": "execute_result"
    },
    {
     "data": {
      "image/png": "[encoded data removed]",
      "text/plain": [
       "<Figure size 640x480 with 1 Axes>"
      ]
     },
     "metadata": {},
     "output_type": "display_data"
    }
   ],
   "source": [
    "growth = df[['totalCells','size']] #.set_index('rows')\n",
    "from matplotlib import pyplot as plt\n",
    "growth.plot.scatter(x='totalCells',y='size')"
   ]
  }
 ],
 "metadata": {
  "kernelspec": {
   "display_name": "Python 3 (ipykernel)",
   "language": "python",
   "name": "python3"
  },
  "language_info": {
   "codemirror_mode": {
    "name": "ipython",
    "version": 3
   },
   "file_extension": ".py",
   "mimetype": "text/x-python",
   "name": "python",
   "nbconvert_exporter": "python",
   "pygments_lexer": "ipython3",
   "version": "3.9.2"
  }
 },
 "nbformat": 4,
 "nbformat_minor": 5
}
